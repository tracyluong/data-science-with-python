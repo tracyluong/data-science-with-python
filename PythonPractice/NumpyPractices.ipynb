{
 "cells": [
  {
   "cell_type": "code",
   "execution_count": 1,
   "metadata": {},
   "outputs": [],
   "source": [
    "import numpy as np"
   ]
  },
  {
   "cell_type": "code",
   "execution_count": 2,
   "metadata": {},
   "outputs": [
    {
     "name": "stdout",
     "output_type": "stream",
     "text": [
      "Original array : \n",
      " [ 0  1  2  3  4  5  6  7  8  9 10]\n",
      "Negated array : \n",
      " [ 0  1  2  3 -4 -5 -6 -7 -8  9 10]\n"
     ]
    }
   ],
   "source": [
    "# E1: Given a 1D array, negate all elements which are between 3 and 8,\n",
    "#  in place (not created a new array).\n",
    "a = np.arange(11)\n",
    "print('Original array : \\n', a)\n",
    "a[(3 < a) & (a <= 8)] *= -1\n",
    "print('Negated array : \\n', a)"
   ]
  },
  {
   "cell_type": "code",
   "execution_count": 3,
   "metadata": {},
   "outputs": [
    {
     "name": "stdout",
     "output_type": "stream",
     "text": [
      "Original vector : \n",
      " [-1.24888204  1.13631191  1.09930192 -0.51716921 -1.20480278 -0.3213649\n",
      "  0.54047948  0.64074863 -1.41836149  1.05428735]\n",
      "After replaced : \n",
      " [-1.24888204  0.          1.09930192 -0.51716921 -1.20480278 -0.3213649\n",
      "  0.54047948  0.64074863 -1.41836149  1.05428735]\n"
     ]
    }
   ],
   "source": [
    "# E2: Create random vector of size 10 and replace the maximum value by 0\n",
    "b = np.random.randn(10)\n",
    "print('Original vector : \\n', b)\n",
    "b[b.argmax()] = 0\n",
    "print('After replaced : \\n', b)"
   ]
  },
  {
   "cell_type": "code",
   "execution_count": 4,
   "metadata": {},
   "outputs": [
    {
     "name": "stdout",
     "output_type": "stream",
     "text": [
      "Array1:  [1 2 3 4 5 6]\n",
      "Array2:  [2, 4, 6, 8]\n",
      "Common values between two arrays:\n",
      "[2 4 6]\n"
     ]
    }
   ],
   "source": [
    "# E3: How to find common values between two arrays?\n",
    "array1 = np.array([1, 2, 3, 4, 5, 6])\n",
    "print(\"Array1: \", array1)\n",
    "array2 = [2, 4, 6, 8]\n",
    "print(\"Array2: \", array2)\n",
    "print(\"Common values between two arrays:\")\n",
    "print(np.intersect1d(array1, array2))"
   ]
  },
  {
   "cell_type": "code",
   "execution_count": 5,
   "metadata": {},
   "outputs": [
    {
     "name": "stdout",
     "output_type": "stream",
     "text": [
      "Original vector : \n",
      " [ 0  1  2  3  4  5  6  7  8  9 10]\n",
      "Reversed vector : \n",
      " [10  9  8  7  6  5  4  3  2  1  0]\n"
     ]
    }
   ],
   "source": [
    "# E4: Reverse a vector (first element becomes last)\n",
    "c = np.arange(11)\n",
    "print('Original vector : \\n', c)\n",
    "c = c[::-1]\n",
    "print('Reversed vector : \\n', c)\n"
   ]
  },
  {
   "cell_type": "code",
   "execution_count": 6,
   "metadata": {},
   "outputs": [
    {
     "name": "stdout",
     "output_type": "stream",
     "text": [
      "[[0 1 2]\n",
      " [3 4 5]\n",
      " [6 7 8]]\n"
     ]
    }
   ],
   "source": [
    "# E5: Create a 3x3 matrix with values ranging from 0 to 8\n",
    "d = np.arange(9).reshape(3, 3)\n",
    "print(d)"
   ]
  },
  {
   "cell_type": "code",
   "execution_count": 7,
   "metadata": {},
   "outputs": [
    {
     "name": "stdout",
     "output_type": "stream",
     "text": [
      "(array([0, 1, 4], dtype=int64),)\n"
     ]
    }
   ],
   "source": [
    "# E6: Find indices of non-zero elements from the array [1,2,0,0,4,0]\n",
    "e = np.nonzero([1, 2, 0, 0, 4, 0])\n",
    "print(e)"
   ]
  },
  {
   "cell_type": "code",
   "execution_count": 8,
   "metadata": {},
   "outputs": [
    {
     "name": "stdout",
     "output_type": "stream",
     "text": [
      "3x3x3 array with random values : \n",
      " [[[0.03215609 0.46241643 0.64656575]\n",
      "  [0.90059465 0.0037424  0.71693686]\n",
      "  [0.51645561 0.16694629 0.95271321]]\n",
      "\n",
      " [[0.95386424 0.45021092 0.73238518]\n",
      "  [0.39914519 0.22130279 0.20218411]\n",
      "  [0.57689157 0.34938678 0.59345265]]\n",
      "\n",
      " [[0.06350875 0.82233016 0.94485789]\n",
      "  [0.28085276 0.98378663 0.42202431]\n",
      "  [0.69456917 0.89760268 0.33216948]]]\n"
     ]
    }
   ],
   "source": [
    "# E7: Create a 3x3x3 array with random values\n",
    "f = np.random.random((3, 3, 3))\n",
    "print('3x3x3 array with random values : \\n', f)"
   ]
  },
  {
   "cell_type": "code",
   "execution_count": 9,
   "metadata": {},
   "outputs": [
    {
     "name": "stdout",
     "output_type": "stream",
     "text": [
      "Random vector : \n",
      " [-0.65055105  1.50138748  0.47792004  1.42112145  0.45002976 -0.58546146\n",
      "  1.2407577  -0.66952216 -1.14961354  0.99660993 -2.45774089  0.53836502\n",
      " -0.67420791 -1.41372446  1.73938923  0.238695    0.625661   -0.15775221\n",
      " -1.34703537  0.47737432  1.04667087 -0.30840321 -0.79212426 -1.25571929\n",
      " -0.62577683  0.30765741  1.36712491  0.83170396  0.69764726 -0.05576045]\n",
      "Mean value : \n",
      " 0.06049074052793503\n"
     ]
    }
   ],
   "source": [
    "# E8: Create a random vector of size 30 and find the mean value\n",
    "g = np.random.randn(30)\n",
    "print('Random vector : \\n', g)\n",
    "mv = g.mean()\n",
    "print('Mean value : \\n', mv)"
   ]
  },
  {
   "cell_type": "code",
   "execution_count": 10,
   "metadata": {},
   "outputs": [
    {
     "name": "stdout",
     "output_type": "stream",
     "text": [
      "2D array with 1 on the border and 0 inside : \n",
      " [[1. 1. 1. 1. 1.]\n",
      " [1. 0. 0. 0. 1.]\n",
      " [1. 0. 0. 0. 1.]\n",
      " [1. 0. 0. 0. 1.]\n",
      " [1. 1. 1. 1. 1.]]\n"
     ]
    }
   ],
   "source": [
    "# E9: Create a 2d array with 1 on the border and 0 inside\n",
    "h = np.ones((5, 5))\n",
    "h[1:-1, 1:-1] = 0\n",
    "print('2D array with 1 on the border and 0 inside : \\n', h)"
   ]
  },
  {
   "cell_type": "code",
   "execution_count": 11,
   "metadata": {},
   "outputs": [
    {
     "name": "stdout",
     "output_type": "stream",
     "text": [
      "Array x : \n",
      " [53 48 62 17 32 14 12 16 18 91 16 92 66 15 19 49 76 68 87 31]\n",
      "Value y : \n",
      " 11.380854599271474\n",
      "Index of array where the value at that index is closest to the value y : 6\n"
     ]
    }
   ],
   "source": [
    "# E10: Find the index of x where the value at that index is closest to y.\n",
    "x = np.random.randint(0, 100, 20)\n",
    "print('Array x : \\n', x)\n",
    "y = np.random.uniform(0, 20)\n",
    "print('Value y : \\n', y)\n",
    "\n",
    "\n",
    "def find_closest(array, value):\n",
    "    idx = (np.abs(array - value)).argmin()\n",
    "    return idx\n",
    "\n",
    "\n",
    "print('Index of array where the value at that index is closest to the value y :', find_closest(x, y))"
   ]
  }
 ],
 "metadata": {
  "kernelspec": {
   "display_name": "Python 3",
   "language": "python",
   "name": "python3"
  },
  "language_info": {
   "codemirror_mode": {
    "name": "ipython",
    "version": 3
   },
   "file_extension": ".py",
   "mimetype": "text/x-python",
   "name": "python",
   "nbconvert_exporter": "python",
   "pygments_lexer": "ipython3",
   "version": "3.7.0"
  }
 },
 "nbformat": 4,
 "nbformat_minor": 1
}
